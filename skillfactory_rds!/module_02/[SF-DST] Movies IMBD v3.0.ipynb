{
 "cells": [
  {
   "cell_type": "code",
   "execution_count": 1,
   "metadata": {
    "_cell_guid": "b1076dfc-b9ad-4769-8c92-a6c4dae69d19",
    "_uuid": "8f2839f25d086af736a60e9eeb907d3b93b6e0e5"
   },
   "outputs": [
    {
     "name": "stdout",
     "output_type": "stream",
     "text": [
      "['.anaconda', '.conda', '.condarc', '.ipynb_checkpoints', '.ipython', '.jupyter', '.matplotlib', '3D Objects', 'AppData', 'Apple', 'Application Data', 'Autodesk', 'Contacts', 'Cookies', 'Desktop', 'Documents', 'Downloads', 'Favorites', 'Intel', 'IntelGraphicsProfiles', 'Links', 'Local Settings', 'MicrosoftEdgeBackups', 'Music', 'NetHood', 'NTUSER.DAT', 'ntuser.dat.LOG1', 'ntuser.dat.LOG2', 'NTUSER.DAT{7011ce5c-134f-11e9-8691-005056c00008}.TM.blf', 'NTUSER.DAT{7011ce5c-134f-11e9-8691-005056c00008}.TMContainer00000000000000000001.regtrans-ms', 'NTUSER.DAT{7011ce5c-134f-11e9-8691-005056c00008}.TMContainer00000000000000000002.regtrans-ms', 'ntuser.ini', 'OneDrive', 'Pictures', 'PrintHood', 'Python', 'Recent', 'Saved Games', 'Searches', 'SendTo', 'Videos', 'главное меню', 'Мои документы', 'Шаблоны']\n"
     ]
    }
   ],
   "source": [
    "import numpy as np\n",
    "import pandas as pd\n",
    "import seaborn as sns\n",
    "import matplotlib.pyplot as plt\n",
    "import os\n",
    "from collections import Counter\n",
    "print(os.listdir(\"../\"))\n"
   ]
  },
  {
   "cell_type": "code",
   "execution_count": 311,
   "metadata": {},
   "outputs": [
    {
     "data": {
      "text/html": [
       "<div>\n",
       "<style scoped>\n",
       "    .dataframe tbody tr th:only-of-type {\n",
       "        vertical-align: middle;\n",
       "    }\n",
       "\n",
       "    .dataframe tbody tr th {\n",
       "        vertical-align: top;\n",
       "    }\n",
       "\n",
       "    .dataframe thead th {\n",
       "        text-align: right;\n",
       "    }\n",
       "</style>\n",
       "<table border=\"1\" class=\"dataframe\">\n",
       "  <thead>\n",
       "    <tr style=\"text-align: right;\">\n",
       "      <th></th>\n",
       "      <th>imdb_id</th>\n",
       "      <th>popularity</th>\n",
       "      <th>budget</th>\n",
       "      <th>revenue</th>\n",
       "      <th>original_title</th>\n",
       "      <th>cast</th>\n",
       "      <th>director</th>\n",
       "      <th>tagline</th>\n",
       "      <th>overview</th>\n",
       "      <th>runtime</th>\n",
       "      <th>genres</th>\n",
       "      <th>production_companies</th>\n",
       "      <th>release_date</th>\n",
       "      <th>vote_count</th>\n",
       "      <th>vote_average</th>\n",
       "      <th>release_year</th>\n",
       "    </tr>\n",
       "  </thead>\n",
       "  <tbody>\n",
       "    <tr>\n",
       "      <td>0</td>\n",
       "      <td>tt0369610</td>\n",
       "      <td>32.985763</td>\n",
       "      <td>150000000</td>\n",
       "      <td>1513528810</td>\n",
       "      <td>Jurassic World</td>\n",
       "      <td>Chris Pratt|Bryce Dallas Howard|Irrfan Khan|Vi...</td>\n",
       "      <td>Colin Trevorrow</td>\n",
       "      <td>The park is open.</td>\n",
       "      <td>Twenty-two years after the events of Jurassic ...</td>\n",
       "      <td>124</td>\n",
       "      <td>Action|Adventure|Science Fiction|Thriller</td>\n",
       "      <td>Universal Studios|Amblin Entertainment|Legenda...</td>\n",
       "      <td>6/9/2015</td>\n",
       "      <td>5562</td>\n",
       "      <td>6.5</td>\n",
       "      <td>2015</td>\n",
       "    </tr>\n",
       "    <tr>\n",
       "      <td>1</td>\n",
       "      <td>tt1392190</td>\n",
       "      <td>28.419936</td>\n",
       "      <td>150000000</td>\n",
       "      <td>378436354</td>\n",
       "      <td>Mad Max: Fury Road</td>\n",
       "      <td>Tom Hardy|Charlize Theron|Hugh Keays-Byrne|Nic...</td>\n",
       "      <td>George Miller</td>\n",
       "      <td>What a Lovely Day.</td>\n",
       "      <td>An apocalyptic story set in the furthest reach...</td>\n",
       "      <td>120</td>\n",
       "      <td>Action|Adventure|Science Fiction|Thriller</td>\n",
       "      <td>Village Roadshow Pictures|Kennedy Miller Produ...</td>\n",
       "      <td>5/13/2015</td>\n",
       "      <td>6185</td>\n",
       "      <td>7.1</td>\n",
       "      <td>2015</td>\n",
       "    </tr>\n",
       "    <tr>\n",
       "      <td>2</td>\n",
       "      <td>tt2908446</td>\n",
       "      <td>13.112507</td>\n",
       "      <td>110000000</td>\n",
       "      <td>295238201</td>\n",
       "      <td>Insurgent</td>\n",
       "      <td>Shailene Woodley|Theo James|Kate Winslet|Ansel...</td>\n",
       "      <td>Robert Schwentke</td>\n",
       "      <td>One Choice Can Destroy You</td>\n",
       "      <td>Beatrice Prior must confront her inner demons ...</td>\n",
       "      <td>119</td>\n",
       "      <td>Adventure|Science Fiction|Thriller</td>\n",
       "      <td>Summit Entertainment|Mandeville Films|Red Wago...</td>\n",
       "      <td>3/18/2015</td>\n",
       "      <td>2480</td>\n",
       "      <td>6.3</td>\n",
       "      <td>2015</td>\n",
       "    </tr>\n",
       "    <tr>\n",
       "      <td>3</td>\n",
       "      <td>tt2488496</td>\n",
       "      <td>11.173104</td>\n",
       "      <td>200000000</td>\n",
       "      <td>2068178225</td>\n",
       "      <td>Star Wars: The Force Awakens</td>\n",
       "      <td>Harrison Ford|Mark Hamill|Carrie Fisher|Adam D...</td>\n",
       "      <td>J.J. Abrams</td>\n",
       "      <td>Every generation has a story.</td>\n",
       "      <td>Thirty years after defeating the Galactic Empi...</td>\n",
       "      <td>136</td>\n",
       "      <td>Action|Adventure|Science Fiction|Fantasy</td>\n",
       "      <td>Lucasfilm|Truenorth Productions|Bad Robot</td>\n",
       "      <td>12/15/2015</td>\n",
       "      <td>5292</td>\n",
       "      <td>7.5</td>\n",
       "      <td>2015</td>\n",
       "    </tr>\n",
       "    <tr>\n",
       "      <td>4</td>\n",
       "      <td>tt2820852</td>\n",
       "      <td>9.335014</td>\n",
       "      <td>190000000</td>\n",
       "      <td>1506249360</td>\n",
       "      <td>Furious 7</td>\n",
       "      <td>Vin Diesel|Paul Walker|Jason Statham|Michelle ...</td>\n",
       "      <td>James Wan</td>\n",
       "      <td>Vengeance Hits Home</td>\n",
       "      <td>Deckard Shaw seeks revenge against Dominic Tor...</td>\n",
       "      <td>137</td>\n",
       "      <td>Action|Crime|Thriller</td>\n",
       "      <td>Universal Pictures|Original Film|Media Rights ...</td>\n",
       "      <td>4/1/2015</td>\n",
       "      <td>2947</td>\n",
       "      <td>7.3</td>\n",
       "      <td>2015</td>\n",
       "    </tr>\n",
       "  </tbody>\n",
       "</table>\n",
       "</div>"
      ],
      "text/plain": [
       "     imdb_id  popularity     budget     revenue                original_title  \\\n",
       "0  tt0369610   32.985763  150000000  1513528810                Jurassic World   \n",
       "1  tt1392190   28.419936  150000000   378436354            Mad Max: Fury Road   \n",
       "2  tt2908446   13.112507  110000000   295238201                     Insurgent   \n",
       "3  tt2488496   11.173104  200000000  2068178225  Star Wars: The Force Awakens   \n",
       "4  tt2820852    9.335014  190000000  1506249360                     Furious 7   \n",
       "\n",
       "                                                cast          director  \\\n",
       "0  Chris Pratt|Bryce Dallas Howard|Irrfan Khan|Vi...   Colin Trevorrow   \n",
       "1  Tom Hardy|Charlize Theron|Hugh Keays-Byrne|Nic...     George Miller   \n",
       "2  Shailene Woodley|Theo James|Kate Winslet|Ansel...  Robert Schwentke   \n",
       "3  Harrison Ford|Mark Hamill|Carrie Fisher|Adam D...       J.J. Abrams   \n",
       "4  Vin Diesel|Paul Walker|Jason Statham|Michelle ...         James Wan   \n",
       "\n",
       "                         tagline  \\\n",
       "0              The park is open.   \n",
       "1             What a Lovely Day.   \n",
       "2     One Choice Can Destroy You   \n",
       "3  Every generation has a story.   \n",
       "4            Vengeance Hits Home   \n",
       "\n",
       "                                            overview  runtime  \\\n",
       "0  Twenty-two years after the events of Jurassic ...      124   \n",
       "1  An apocalyptic story set in the furthest reach...      120   \n",
       "2  Beatrice Prior must confront her inner demons ...      119   \n",
       "3  Thirty years after defeating the Galactic Empi...      136   \n",
       "4  Deckard Shaw seeks revenge against Dominic Tor...      137   \n",
       "\n",
       "                                      genres  \\\n",
       "0  Action|Adventure|Science Fiction|Thriller   \n",
       "1  Action|Adventure|Science Fiction|Thriller   \n",
       "2         Adventure|Science Fiction|Thriller   \n",
       "3   Action|Adventure|Science Fiction|Fantasy   \n",
       "4                      Action|Crime|Thriller   \n",
       "\n",
       "                                production_companies release_date  vote_count  \\\n",
       "0  Universal Studios|Amblin Entertainment|Legenda...     6/9/2015        5562   \n",
       "1  Village Roadshow Pictures|Kennedy Miller Produ...    5/13/2015        6185   \n",
       "2  Summit Entertainment|Mandeville Films|Red Wago...    3/18/2015        2480   \n",
       "3          Lucasfilm|Truenorth Productions|Bad Robot   12/15/2015        5292   \n",
       "4  Universal Pictures|Original Film|Media Rights ...     4/1/2015        2947   \n",
       "\n",
       "   vote_average  release_year  \n",
       "0           6.5          2015  \n",
       "1           7.1          2015  \n",
       "2           6.3          2015  \n",
       "3           7.5          2015  \n",
       "4           7.3          2015  "
      ]
     },
     "execution_count": 311,
     "metadata": {},
     "output_type": "execute_result"
    }
   ],
   "source": [
    "data = pd.read_csv('data.csv')\n",
    "data.head(5)"
   ]
  },
  {
   "cell_type": "code",
   "execution_count": 35,
   "metadata": {},
   "outputs": [
    {
     "data": {
      "text/plain": [
       "1890"
      ]
     },
     "execution_count": 35,
     "metadata": {},
     "output_type": "execute_result"
    }
   ],
   "source": [
    "len(data)"
   ]
  },
  {
   "cell_type": "markdown",
   "metadata": {},
   "source": [
    "# Предобработка датасета"
   ]
  },
  {
   "cell_type": "code",
   "execution_count": 14,
   "metadata": {},
   "outputs": [],
   "source": [
    "answer_ls = [] # создадим список с ответами. сюда будем добавлять ответы по мере прохождения теста\n",
    "# сюда можем вписать создание новых колонок в датасете"
   ]
  },
  {
   "cell_type": "markdown",
   "metadata": {},
   "source": [
    "# 1. У какого фильма из списка самый большой бюджет?\n",
    "Варианты ответов:\n",
    "1. The Dark Knight Rises (tt1345836)\n",
    "2. Spider-Man 3 (tt0413300)\n",
    "3. Avengers: Age of Ultron (tt2395427)\n",
    "4. The Warrior's Way\t(tt1032751)\n",
    "5. Pirates of the Caribbean: On Stranger Tides (tt1298650)"
   ]
  },
  {
   "cell_type": "code",
   "execution_count": 15,
   "metadata": {},
   "outputs": [],
   "source": [
    "# тут вводим ваш ответ и добавлем в его список ответов (сейчас для примера стоит \"1\")\n",
    "s=data[(data['budget']==data['budget'].max())]['original_title'].values[0]\n",
    "answer_ls.append(s)\n",
    "#display(answer_ls)"
   ]
  },
  {
   "cell_type": "markdown",
   "metadata": {},
   "source": [
    "# 2. Какой из фильмов самый длительный (в минутах)\n",
    "1. The Lord of the Rings: The Return of the King\t(tt0167260)\n",
    "2. Gods and Generals\t(tt0279111)\n",
    "3. King Kong\t(tt0360717)\n",
    "4. Pearl Harbor\t(tt0213149)\n",
    "5. Alexander\t(tt0346491)"
   ]
  },
  {
   "cell_type": "code",
   "execution_count": 16,
   "metadata": {},
   "outputs": [],
   "source": [
    "s=data[(data['runtime']==data['runtime'].max())]['original_title'].values[0]\n",
    "answer_ls.append(s)\n"
   ]
  },
  {
   "cell_type": "markdown",
   "metadata": {},
   "source": [
    "# 3. Какой из фильмов самый короткий (в минутах)\n",
    "Варианты ответов:\n",
    "\n",
    "1. Home on the Range\ttt0299172\n",
    "2. The Jungle Book 2\ttt0283426\n",
    "3. Winnie the Pooh\ttt1449283\n",
    "4. Corpse Bride\ttt0121164\n",
    "5. Hoodwinked!\ttt0443536"
   ]
  },
  {
   "cell_type": "code",
   "execution_count": 17,
   "metadata": {},
   "outputs": [
    {
     "name": "stdout",
     "output_type": "stream",
     "text": [
      "[\"The Warrior's Way\", 'Gods and Generals', 'Winnie the Pooh']\n"
     ]
    }
   ],
   "source": [
    "s=data[(data['runtime']==data['runtime'].min())]['original_title'].values[0]\n",
    "s=answer_ls.append(s)\n",
    "print(answer_ls)"
   ]
  },
  {
   "cell_type": "markdown",
   "metadata": {},
   "source": [
    "# 4. Средняя длительность фильма?\n",
    "\n",
    "Варианты ответов:\n",
    "1. 115\n",
    "2. 110\n",
    "3. 105\n",
    "4. 120\n",
    "5. 100\n"
   ]
  },
  {
   "cell_type": "code",
   "execution_count": 18,
   "metadata": {},
   "outputs": [],
   "source": [
    "s=int(round(data['runtime'].mean(),0))\n",
    "answer_ls.append(s)"
   ]
  },
  {
   "cell_type": "markdown",
   "metadata": {},
   "source": [
    "# 5. Средняя длительность фильма по медиане?\n",
    "Варианты ответов:\n",
    "1. 106\n",
    "2. 112\n",
    "3. 101\n",
    "4. 120\n",
    "5. 115\n",
    "\n",
    "\n"
   ]
  },
  {
   "cell_type": "code",
   "execution_count": 19,
   "metadata": {},
   "outputs": [],
   "source": [
    "s=int(round(data['runtime'].median(),0))\n",
    "answer_ls.append(s)"
   ]
  },
  {
   "cell_type": "markdown",
   "metadata": {},
   "source": [
    "# 6. Какой самый прибыльный фильм?\n",
    "Варианты ответов:\n",
    "1. The Avengers\ttt0848228\n",
    "2. Minions\ttt2293640\n",
    "3. Star Wars: The Force Awakens\ttt2488496\n",
    "4. Furious 7\ttt2820852\n",
    "5. Avatar\ttt0499549"
   ]
  },
  {
   "cell_type": "code",
   "execution_count": 20,
   "metadata": {},
   "outputs": [],
   "source": [
    "s=data[data['revenue']==data['revenue'].max()]['original_title'].values[0]\n",
    "answer_ls.append(s)"
   ]
  },
  {
   "cell_type": "markdown",
   "metadata": {},
   "source": [
    "# 7. Какой фильм самый убыточный?\n",
    "Варианты ответов:\n",
    "1. Supernova tt0134983\n",
    "2. The Warrior's Way tt1032751\n",
    "3. Flushed Away\ttt0424095\n",
    "4. The Adventures of Pluto Nash\ttt0180052\n",
    "5. The Lone Ranger\ttt1210819"
   ]
  },
  {
   "cell_type": "code",
   "execution_count": 21,
   "metadata": {},
   "outputs": [
    {
     "data": {
      "text/plain": [
       "[\"The Warrior's Way\",\n",
       " 'Gods and Generals',\n",
       " 'Winnie the Pooh',\n",
       " 110,\n",
       " 106,\n",
       " 'Avatar',\n",
       " \"The Warrior's Way\"]"
      ]
     },
     "execution_count": 21,
     "metadata": {},
     "output_type": "execute_result"
    }
   ],
   "source": [
    "s=data[data['revenue']-data['budget']==(data['revenue']-data['budget']).min()]['original_title'].values[0]\n",
    "answer_ls.append(s)\n",
    "list(answer_ls)\n"
   ]
  },
  {
   "cell_type": "markdown",
   "metadata": {},
   "source": [
    "# 8. Сколько всего фильмов в прибыли?\n",
    "Варианты ответов:\n",
    "1. 1478\n",
    "2. 1520\n",
    "3. 1241\n",
    "4. 1135\n",
    "5. 1398\n"
   ]
  },
  {
   "cell_type": "code",
   "execution_count": 23,
   "metadata": {},
   "outputs": [],
   "source": [
    "s=data[data['revenue']-data['budget']>0].count().values[0]\n",
    "answer_ls.append(s)"
   ]
  },
  {
   "cell_type": "markdown",
   "metadata": {},
   "source": [
    "# 9. Самый прибыльный фильм в 2008 году?\n",
    "Варианты ответов:\n",
    "1. Madagascar: Escape 2 Africa\ttt0479952\n",
    "2. Iron Man\ttt0371746\n",
    "3. Kung Fu Panda\ttt0441773\n",
    "4. The Dark Knight\ttt0468569\n",
    "5. Mamma Mia!\ttt0795421"
   ]
  },
  {
   "cell_type": "code",
   "execution_count": 24,
   "metadata": {},
   "outputs": [],
   "source": [
    "data2=data[data['release_year']==2008]\n",
    "s=data2[(data2['revenue']-data2['budget']==(data2['revenue']-data2['budget']).max()) ]['original_title'].values[0]\n",
    "answer_ls.append(s)"
   ]
  },
  {
   "cell_type": "markdown",
   "metadata": {},
   "source": [
    "# 10. Самый убыточный фильм за период с 2012 по 2014 (включительно)?\n",
    "Варианты ответов:\n",
    "1. Winter's Tale\ttt1837709\n",
    "2. Stolen\ttt1656186\n",
    "3. Broken City\ttt1235522\n",
    "4. Upside Down\ttt1374992\n",
    "5. The Lone Ranger\ttt1210819\n"
   ]
  },
  {
   "cell_type": "code",
   "execution_count": 25,
   "metadata": {},
   "outputs": [],
   "source": [
    "data2=data[(data['release_year']>=2012) & (data['release_year']<=2014)]\n",
    "s=data2[(data2['revenue']-data2['budget']==(data2['revenue']-data2['budget']).min()) ]['original_title'].values[0]\n",
    "answer_ls.append(s)"
   ]
  },
  {
   "cell_type": "markdown",
   "metadata": {},
   "source": [
    "# 11. Какого жанра фильмов больше всего?\n",
    "Варианты ответов:\n",
    "1. Action\n",
    "2. Adventure\n",
    "3. Drama\n",
    "4. Comedy\n",
    "5. Thriller"
   ]
  },
  {
   "cell_type": "code",
   "execution_count": 26,
   "metadata": {},
   "outputs": [
    {
     "name": "stdout",
     "output_type": "stream",
     "text": [
      "Drama\n"
     ]
    }
   ],
   "source": [
    "data['genres']\n",
    "list_genres=[]\n",
    "for i in data['genres']:\n",
    "    for j in i.split('|'):\n",
    "        list_genres.append(j)\n",
    "list_genres=Counter(list_genres)\n",
    "max_list=max(list_genres.values())\n",
    "for i,j in list_genres.items():\n",
    "    if j==max_list:\n",
    "        str_genres=i\n",
    "        break\n",
    "print(str_genres)\n",
    "answer_ls.append(str_genres)\n",
    "#list_genres[max(list_genres.values())]"
   ]
  },
  {
   "cell_type": "markdown",
   "metadata": {},
   "source": [
    "# 12. Какого жанра среди прибыльных фильмов больше всего?\n",
    "Варианты ответов:\n",
    "1. Drama\n",
    "2. Comedy\n",
    "3. Action\n",
    "4. Thriller\n",
    "5. Adventure"
   ]
  },
  {
   "cell_type": "code",
   "execution_count": 27,
   "metadata": {},
   "outputs": [
    {
     "name": "stdout",
     "output_type": "stream",
     "text": [
      "Drama\n"
     ]
    }
   ],
   "source": [
    "data[(data['revenue']-data['budget'])>0]['genres']\n",
    "list_genres=[]\n",
    "for i in data['genres']:\n",
    "    for j in i.split('|'):\n",
    "        list_genres.append(j)\n",
    "list_genres=Counter(list_genres)\n",
    "max_list=max(list_genres.values())\n",
    "for i,j in list_genres.items():\n",
    "    if j==max_list:\n",
    "        str_genres=i\n",
    "        break\n",
    "print(str_genres)\n",
    "answer_ls.append(str_genres)\n",
    "#answer_ls.append(1)"
   ]
  },
  {
   "cell_type": "markdown",
   "metadata": {},
   "source": [
    "# 13. Кто из режиссеров снял больше всего фильмов?\n",
    "Варианты ответов:\n",
    "1. Steven Spielberg\n",
    "2. Ridley Scott \n",
    "3. Steven Soderbergh\n",
    "4. Christopher Nolan\n",
    "5. Clint Eastwood"
   ]
  },
  {
   "cell_type": "code",
   "execution_count": 28,
   "metadata": {},
   "outputs": [
    {
     "name": "stdout",
     "output_type": "stream",
     "text": [
      "Steven Soderbergh\n"
     ]
    }
   ],
   "source": [
    "list_=data['director'].value_counts()\n",
    "max_list=data['director'].value_counts().max()\n",
    "for i,j in list_.items():\n",
    "    if j==max_list:\n",
    "        str_genres=i\n",
    "        break\n",
    "print(str_genres)\n",
    "answer_ls.append(str_genres)"
   ]
  },
  {
   "cell_type": "markdown",
   "metadata": {},
   "source": [
    "# 14. Кто из режиссеров снял больше всего Прибыльных фильмов?\n",
    "Варианты ответов:\n",
    "1. Steven Soderbergh\n",
    "2. Clint Eastwood\n",
    "3. Steven Spielberg\n",
    "4. Ridley Scott\n",
    "5. Christopher Nolan"
   ]
  },
  {
   "cell_type": "code",
   "execution_count": 29,
   "metadata": {},
   "outputs": [
    {
     "name": "stdout",
     "output_type": "stream",
     "text": [
      "Ridley Scott 12\n"
     ]
    }
   ],
   "source": [
    "list_=data[(data['revenue']-data['budget'])>0]['director'].value_counts()\n",
    "max_list=data[(data['revenue']-data['budget'])>0]['director'].value_counts().max()\n",
    "for i,j in list_.items():\n",
    "    if j==max_list:\n",
    "        str_genres=i\n",
    "        break\n",
    "    \n",
    "\n",
    "print(str_genres,max_list)\n",
    "answer_ls.append(str_genres)\n",
    "\n",
    "#answer_ls.append(1)"
   ]
  },
  {
   "cell_type": "markdown",
   "metadata": {},
   "source": [
    "# 15. Кто из режиссеров принес больше всего прибыли?\n",
    "Варианты ответов:\n",
    "1. Steven Spielberg\n",
    "2. Christopher Nolan\n",
    "3. David Yates\n",
    "4. James Cameron\n",
    "5. Peter Jackson\n"
   ]
  },
  {
   "cell_type": "code",
   "execution_count": 30,
   "metadata": {},
   "outputs": [],
   "source": [
    "data2=data.groupby('director').sum()\n",
    "data2['prib']=data2['revenue']-data2['budget']\n",
    "data2=data2[data2['prib']==data2['prib'].max()]\n",
    "data2.index[0]\n",
    "#data2.iloc[[0]]\n",
    "#ata2[(data2['revenue']-data['budget'])==(data2['revenue']-data['budget'])]['director'].groupby('director').sum()\n",
    "answer_ls.append(data2.index[0])"
   ]
  },
  {
   "cell_type": "markdown",
   "metadata": {},
   "source": [
    "# 16. Какой актер принес больше всего прибыли?\n",
    "Варианты ответов:\n",
    "1. Emma Watson\n",
    "2. Johnny Depp\n",
    "3. Michelle Rodriguez\n",
    "4. Orlando Bloom\n",
    "5. Rupert Grint"
   ]
  },
  {
   "cell_type": "code",
   "execution_count": 31,
   "metadata": {},
   "outputs": [],
   "source": [
    "data2=data\n",
    "data2['prib']=data2['revenue']-data2['budget']\n",
    "data2.head(2)\n",
    "list1_=[]\n",
    "list2_=[]\n",
    "s=0\n",
    "for index,row in data2.iterrows():\n",
    "    for i in data2['cast'][index].split('|'):\n",
    "        list1_.append(i)\n",
    "        list2_.append(row['prib'])\n",
    "        s=s+1\n",
    "data_list = {'cast':list1_, 'profit':list2_}\n",
    "data_list\n",
    "df = pd.DataFrame(data_list)\n",
    "df\n",
    "df=df.groupby('cast').sum()\n",
    "s=df[df['profit']==df['profit'].max()].index[0]\n",
    "answer_ls.append(s)\n"
   ]
  },
  {
   "cell_type": "markdown",
   "metadata": {},
   "source": [
    "# 17. Какой актер принес меньше всего прибыли в 2012 году?\n",
    "Варианты ответов:\n",
    "1. Nicolas Cage\n",
    "2. Danny Huston\n",
    "3. Kirsten Dunst\n",
    "4. Jim Sturgess\n",
    "5. Sami Gayle"
   ]
  },
  {
   "cell_type": "code",
   "execution_count": 32,
   "metadata": {},
   "outputs": [],
   "source": [
    "data2=data\n",
    "data2['prib']=data2['revenue']-data2['budget']\n",
    "data2=data2[data2['release_year']==2012]\n",
    "data2.head(2)\n",
    "list1_=[]\n",
    "list2_=[]\n",
    "s=0\n",
    "for index,row in data2.iterrows():\n",
    "    for i in data2['cast'][index].split('|'):\n",
    "        list1_.append(i)\n",
    "        list2_.append(row['prib'])\n",
    "        s=s+1\n",
    "data_list = {'cast':list1_, 'profit':list2_}\n",
    "data_list\n",
    "df = pd.DataFrame(data_list)\n",
    "df\n",
    "df=df.groupby('cast').sum()\n",
    "s=df[df['profit']==df['profit'].min()].index[0]\n",
    "#print(s)\n",
    "answer_ls.append(s)\n",
    "#answer_ls.append(1)"
   ]
  },
  {
   "cell_type": "code",
   "execution_count": 33,
   "metadata": {},
   "outputs": [
    {
     "data": {
      "text/html": [
       "<div>\n",
       "<style scoped>\n",
       "    .dataframe tbody tr th:only-of-type {\n",
       "        vertical-align: middle;\n",
       "    }\n",
       "\n",
       "    .dataframe tbody tr th {\n",
       "        vertical-align: top;\n",
       "    }\n",
       "\n",
       "    .dataframe thead th {\n",
       "        text-align: right;\n",
       "    }\n",
       "</style>\n",
       "<table border=\"1\" class=\"dataframe\">\n",
       "  <thead>\n",
       "    <tr style=\"text-align: right;\">\n",
       "      <th></th>\n",
       "      <th>imdb_id</th>\n",
       "      <th>popularity</th>\n",
       "      <th>budget</th>\n",
       "      <th>revenue</th>\n",
       "      <th>original_title</th>\n",
       "      <th>cast</th>\n",
       "      <th>director</th>\n",
       "      <th>tagline</th>\n",
       "      <th>overview</th>\n",
       "      <th>runtime</th>\n",
       "      <th>genres</th>\n",
       "      <th>production_companies</th>\n",
       "      <th>release_date</th>\n",
       "      <th>vote_count</th>\n",
       "      <th>vote_average</th>\n",
       "      <th>release_year</th>\n",
       "      <th>prib</th>\n",
       "    </tr>\n",
       "  </thead>\n",
       "  <tbody>\n",
       "    <tr>\n",
       "      <td>971</td>\n",
       "      <td>tt0848228</td>\n",
       "      <td>7.637767</td>\n",
       "      <td>220000000</td>\n",
       "      <td>1519557910</td>\n",
       "      <td>The Avengers</td>\n",
       "      <td>Robert Downey Jr.|Chris Evans|Mark Ruffalo|Chr...</td>\n",
       "      <td>Joss Whedon</td>\n",
       "      <td>Some assembly required.</td>\n",
       "      <td>When an unexpected enemy emerges and threatens...</td>\n",
       "      <td>143</td>\n",
       "      <td>Science Fiction|Action|Adventure</td>\n",
       "      <td>Marvel Studios</td>\n",
       "      <td>4/25/2012</td>\n",
       "      <td>8903</td>\n",
       "      <td>7.3</td>\n",
       "      <td>2012</td>\n",
       "      <td>1299557910</td>\n",
       "    </tr>\n",
       "    <tr>\n",
       "      <td>972</td>\n",
       "      <td>tt1496025</td>\n",
       "      <td>7.031452</td>\n",
       "      <td>70000000</td>\n",
       "      <td>132400000</td>\n",
       "      <td>Underworld: Awakening</td>\n",
       "      <td>Kate Beckinsale|Stephen Rea|Michael Ealy|Theo ...</td>\n",
       "      <td>MÃ¥ns MÃ¥rlind|BjÃ¶rn Stein</td>\n",
       "      <td>Vengeance Returns</td>\n",
       "      <td>After being held in a coma-like state for fift...</td>\n",
       "      <td>88</td>\n",
       "      <td>Fantasy|Action|Horror</td>\n",
       "      <td>Lakeshore Entertainment|Saturn Films|Screen Ge...</td>\n",
       "      <td>1/19/2012</td>\n",
       "      <td>1426</td>\n",
       "      <td>6.0</td>\n",
       "      <td>2012</td>\n",
       "      <td>62400000</td>\n",
       "    </tr>\n",
       "  </tbody>\n",
       "</table>\n",
       "</div>"
      ],
      "text/plain": [
       "       imdb_id  popularity     budget     revenue         original_title  \\\n",
       "971  tt0848228    7.637767  220000000  1519557910           The Avengers   \n",
       "972  tt1496025    7.031452   70000000   132400000  Underworld: Awakening   \n",
       "\n",
       "                                                  cast  \\\n",
       "971  Robert Downey Jr.|Chris Evans|Mark Ruffalo|Chr...   \n",
       "972  Kate Beckinsale|Stephen Rea|Michael Ealy|Theo ...   \n",
       "\n",
       "                        director                  tagline  \\\n",
       "971                  Joss Whedon  Some assembly required.   \n",
       "972  MÃ¥ns MÃ¥rlind|BjÃ¶rn Stein        Vengeance Returns   \n",
       "\n",
       "                                              overview  runtime  \\\n",
       "971  When an unexpected enemy emerges and threatens...      143   \n",
       "972  After being held in a coma-like state for fift...       88   \n",
       "\n",
       "                               genres  \\\n",
       "971  Science Fiction|Action|Adventure   \n",
       "972             Fantasy|Action|Horror   \n",
       "\n",
       "                                  production_companies release_date  \\\n",
       "971                                     Marvel Studios    4/25/2012   \n",
       "972  Lakeshore Entertainment|Saturn Films|Screen Ge...    1/19/2012   \n",
       "\n",
       "     vote_count  vote_average  release_year        prib  \n",
       "971        8903           7.3          2012  1299557910  \n",
       "972        1426           6.0          2012    62400000  "
      ]
     },
     "execution_count": 33,
     "metadata": {},
     "output_type": "execute_result"
    }
   ],
   "source": [
    "data2.head(2)\n",
    "data2[data2['release_year']==2012].head(2)"
   ]
  },
  {
   "cell_type": "markdown",
   "metadata": {},
   "source": [
    "# 18. Какой актер снялся в большем количестве высокобюджетных фильмов? (в фильмах где бюджет выше среднего по данной выборке)\n",
    "Варианты ответов:\n",
    "1. Tom Cruise\n",
    "2. Mark Wahlberg \n",
    "3. Matt Damon\n",
    "4. Angelina Jolie\n",
    "5. Adam Sandler"
   ]
  },
  {
   "cell_type": "code",
   "execution_count": 121,
   "metadata": {},
   "outputs": [
    {
     "name": "stdout",
     "output_type": "stream",
     "text": [
      "Matt Damon 18\n"
     ]
    }
   ],
   "source": [
    "#data2=data\n",
    "#data2['prib']=data2['revenue']-data2['budget']\n",
    "#data2=data2[data2['release_year']==2012]\n",
    "list1_=[]\n",
    "list2_=[]\n",
    "s=0\n",
    "for index,row in data2.iterrows():\n",
    "    for i in data['cast'][index].split('|'):\n",
    "        list1_.append(i)\n",
    "        list2_.append(row['original_title'])\n",
    "        s=s+1\n",
    "data_list = {'cast':list1_, 'original_title':list2_}\n",
    "#data_list\n",
    "df =pd.DataFrame(data_list) #9443\n",
    "\n",
    "df_merge=df.merge(data2, how='inner', left_on='original_title', right_on='original_title')\n",
    "max_list=df_merge[df_merge['budget']>df_merge['budget'].mean()]['cast_x'].value_counts().max()\n",
    "counter_df=Counter(df_merge[df_merge['budget']>df_merge['budget'].mean()]['cast_x'])\n",
    "for i,j in counter_df.items():\n",
    "    if j==max_list:\n",
    "        \n",
    "        str_genres=i\n",
    "        break\n",
    "print(str_genres,max_list)\n",
    "#display(a.tail(5),df.duplicated())\n",
    "#answer_ls.append(str_genres)"
   ]
  },
  {
   "cell_type": "markdown",
   "metadata": {},
   "source": [
    "# 19. В фильмах какого жанра больше всего снимался Nicolas Cage?  \n",
    "Варианты ответа:\n",
    "1. Drama\n",
    "2. Action\n",
    "3. Thriller\n",
    "4. Adventure\n",
    "5. Crime"
   ]
  },
  {
   "cell_type": "code",
   "execution_count": 155,
   "metadata": {},
   "outputs": [
    {
     "name": "stdout",
     "output_type": "stream",
     "text": [
      "Action 17\n"
     ]
    }
   ],
   "source": [
    "df_cast =pd.DataFrame(data_list) #9443\n",
    "#display(df_cast)\n",
    "list1_=[]\n",
    "list2_=[]\n",
    "for index,row in data.iterrows():\n",
    "    for i in data['genres'][index].split('|'):\n",
    "        list1_.append(i)\n",
    "        list2_.append(row['original_title'])\n",
    "        s=s+1\n",
    "data_list2 = {'genres':list1_, 'original_title':list2_}\n",
    "df_generes =pd.DataFrame(data_list2) #9443\n",
    "#df_cast =pd.DataFrame(data_list) #9443\n",
    "\n",
    "df_merge=df_cast.merge(df_generes, how='left', left_on='original_title', right_on='original_title')\n",
    "df_merge\n",
    "max_list=df_merge[df_merge['cast']=='Nicolas Cage']['genres'].value_counts().max()\n",
    "counter_df=(df_merge[df_merge['cast']=='Nicolas Cage']['genres'].value_counts())\n",
    "for i,j in counter_df.items():\n",
    "    if j==max_list:\n",
    "        \n",
    "        str_genres=i\n",
    "        break\n",
    "print(str_genres,max_list)\n",
    "#display(df_generes)\n",
    "answer_ls.append(str_genres)"
   ]
  },
  {
   "cell_type": "markdown",
   "metadata": {},
   "source": [
    "# 20. Какая студия сняла больше всего фильмов?\n",
    "Варианты ответа:\n",
    "1. Universal Pictures (Universal)\n",
    "2. Paramount Pictures\n",
    "3. Columbia Pictures\n",
    "4. Warner Bros\n",
    "5. Twentieth Century Fox Film Corporation"
   ]
  },
  {
   "cell_type": "code",
   "execution_count": 165,
   "metadata": {},
   "outputs": [
    {
     "name": "stdout",
     "output_type": "stream",
     "text": [
      "Universal Pictures 173\n"
     ]
    }
   ],
   "source": [
    "data.head(2)\n",
    "def create_lst(colum1,colum2,name_df):\n",
    "    list1_=[]\n",
    "    list2_=[]\n",
    "    s=0\n",
    "    for index,row in data.iterrows():\n",
    "        for i in data[colum1][index].split('|'):\n",
    "            list1_.append(i)\n",
    "            list2_.append(row[colum2])\n",
    "            s=s+1\n",
    "    name_df = {colum1:list1_, colum2:list2_}\n",
    "    name_df =pd.DataFrame(name_df) #9443\n",
    "    return(name_df)\n",
    "df_comp=create_lst('production_companies','original_title','df_comp')\n",
    "\n",
    "df_merge=df_comp.merge(data, how='left', left_on='original_title', right_on='original_title')\n",
    "df_merge.head(2)\n",
    "df_merge\n",
    "max_list=df_merge['production_companies_x'].value_counts().max()\n",
    "counter_df=(df_merge['production_companies_x'].value_counts())\n",
    "for i,j in counter_df.items():\n",
    "    if j==max_list:\n",
    "        \n",
    "        str_genres=i\n",
    "        break\n",
    "print(str_genres,max_list)\n",
    "\n",
    "answer_ls.append(str_genres)"
   ]
  },
  {
   "cell_type": "markdown",
   "metadata": {},
   "source": [
    "# 21. Какая студия сняла больше всего фильмов в 2015 году?\n",
    "Варианты ответа:\n",
    "1. Universal Pictures\n",
    "2. Paramount Pictures\n",
    "3. Columbia Pictures\n",
    "4. Warner Bros\n",
    "5. Twentieth Century Fox Film Corporation"
   ]
  },
  {
   "cell_type": "code",
   "execution_count": 196,
   "metadata": {},
   "outputs": [
    {
     "name": "stdout",
     "output_type": "stream",
     "text": [
      "Warner Bros.\n"
     ]
    }
   ],
   "source": [
    "data.head(2)\n",
    "def create_lst(data_set,colum1,colum2,name_df):\n",
    "    \n",
    "    list1_=[]\n",
    "    list2_=[]\n",
    "    s=0\n",
    "    for index,row in data_set.iterrows():\n",
    "        for i in data_set[colum1][index].split('|'):\n",
    "            list1_.append(i)\n",
    "            list2_.append(row[colum2])\n",
    "            s=s+1\n",
    "    name_df = {colum1:list1_, colum2:list2_}\n",
    "    name_df =pd.DataFrame(name_df) #9443\n",
    "    return(name_df)\n",
    "def result_merge(df_merge,str_return,option=''):\n",
    "    str_genres=\"\"\n",
    "    if option=='':\n",
    "        max_list=df_merge[str_return].value_counts().max()\n",
    "        counter_df=(df_merge[str_return].value_counts())\n",
    "    else:\n",
    "        max_list=df_merge[option][str_return].value_counts().max()\n",
    "        counter_df=(df_merge[option][str_return].value_counts())\n",
    "    for i,j in counter_df.items():\n",
    "        if j==max_list:\n",
    "            str_genres=i\n",
    "        break\n",
    "    return(str_genres,max_list)\n",
    "    #return(df_merge)\n",
    "\n",
    "data_set=data[data['release_year']==2015]\n",
    "df_company=create_lst(data_set,'production_companies','original_title','df_comp')\n",
    "#print (df_company)\n",
    "df_merge=df_company.merge(data, how='left', left_on='original_title', right_on='original_title')\n",
    "    \n",
    "res=result_merge(df_merge,'production_companies_x')\n",
    "\n",
    "\n",
    "#res\n",
    "print(res[0])\n",
    "\n",
    "\n",
    "\n",
    "#answer_ls.append(res[0])"
   ]
  },
  {
   "cell_type": "markdown",
   "metadata": {},
   "source": [
    "# 22. Какая студия заработала больше всего денег в жанре комедий за все время?\n",
    "Варианты ответа:\n",
    "1. Warner Bros\n",
    "2. Universal Pictures (Universal)\n",
    "3. Columbia Pictures\n",
    "4. Paramount Pictures\n",
    "5. Walt Disney"
   ]
  },
  {
   "cell_type": "code",
   "execution_count": 256,
   "metadata": {},
   "outputs": [],
   "source": [
    "#data_set=data[data['release_year']==2015]\n",
    "data_set=data\n",
    "df_company=create_lst(data_set,'production_companies','original_title','df_comp')\n",
    "df_genres=create_lst(data_set,'genres','original_title','df_genres')\n",
    "df_genres.count()\n",
    "#print (df_company)\n",
    "df_merge_m=df_company.merge(df_genres, how='left', left_on='original_title', right_on='original_title')\n",
    "df_merge_m\n",
    "#res=result_merge(df_company,f_genres,'original_title','production_companies_x')\n",
    "df_merge=df_merge_m.merge(data, how='left', left_on='original_title', right_on='original_title')\n",
    "df_merge.head(2)\n",
    "#res=result_merge(df_company,f_genres,'original_title','production_companies_x')\n",
    "option=\"df_merge['prib']==df_merge['prib'].max()\"\n",
    "#res=result_merge(df_merge,'production_companies_x',)\n",
    "#res\n",
    "#print(res[0])\n",
    "max_list=df_merge[df_merge['prib']==df_merge['prib'].max()]['production_companies_x'].value_counts().max()\n",
    "counter_df=(df_merge[df_merge['prib']==df_merge['prib'].max()]['production_companies_x'].value_counts())\n",
    "str_genres=\"\"\n",
    "for i,j in counter_df.items():\n",
    "    if j==max_list:\n",
    "        str_genres=i\n",
    "    break\n",
    "#\n",
    "df_merge_=df_merge[df_merge['genres_x']=='Comedy']\n",
    "df_merge_.head(2)\n",
    "asd=df_merge_.groupby('production_companies_x').sum()\n",
    "#asd.sort_values('prib',ascending=False)\n",
    "asd[asd['prib']==asd['prib'].max()].index[0]\n",
    "#asd.index[0]\n",
    "#df_merge.head(10)\n",
    "#counter_df\n",
    "#df_merge['prib'].max()\n",
    "#df_merge[df_merge['prib']==df_merge['prib'].max()].head(2)\n",
    "#print(str_genres,max_list)\n",
    "#df_merge[df_merge['genres']=='Comedy']['prib'].sum()\n",
    "\n",
    "answer_ls.append(asd[asd['prib']==asd['prib'].max()].index[0])"
   ]
  },
  {
   "cell_type": "markdown",
   "metadata": {},
   "source": [
    "# 23. Какая студия заработала больше всего денег в 2012 году?\n",
    "Варианты ответа:\n",
    "1. Universal Pictures (Universal)\n",
    "2. Warner Bros\n",
    "3. Columbia Pictures\n",
    "4. Paramount Pictures\n",
    "5. Lucasfilm"
   ]
  },
  {
   "cell_type": "code",
   "execution_count": 263,
   "metadata": {},
   "outputs": [],
   "source": [
    "data_set=data[data['release_year']==2012]\n",
    "#data_set=data\n",
    "df_company=create_lst(data_set,'production_companies','original_title','df_comp')\n",
    "df_genres=create_lst(data_set,'genres','original_title','df_genres')\n",
    "df_genres.count()\n",
    "df_merge_m=df_company.merge(df_genres, how='left', left_on='original_title', right_on='original_title')\n",
    "df_merge_m\n",
    "df_merge=df_merge_m.merge(data, how='left', left_on='original_title', right_on='original_title')\n",
    "df_merge.head(2)\n",
    "asd=df_merge.groupby('production_companies_x').sum()\n",
    "asd\n",
    "asd[asd['prib']==asd['prib'].max()].index[0]\n",
    "answer_ls.append(asd[asd['prib']==asd['prib'].max()].index[0])"
   ]
  },
  {
   "cell_type": "markdown",
   "metadata": {},
   "source": [
    "# 24. Самый убыточный фильм от Paramount Pictures\n",
    "Варианты ответа:\n",
    "\n",
    "1. K-19: The Widowmaker tt0267626\n",
    "2. Next tt0435705\n",
    "3. Twisted tt0315297\n",
    "4. The Love Guru tt0811138\n",
    "5. The Fighter tt0964517"
   ]
  },
  {
   "cell_type": "code",
   "execution_count": 275,
   "metadata": {},
   "outputs": [],
   "source": [
    "#data_set=data[data['production_companies']=='Paramount Pictures']\n",
    "data_set=data\n",
    "df_company=create_lst(data_set,'production_companies','original_title','df_comp')\n",
    "df_genres=create_lst(data_set,'genres','original_title','df_genres')\n",
    "df_genres.count()\n",
    "df_merge_m=df_company.merge(df_genres, how='left', left_on='original_title', right_on='original_title')\n",
    "df_merge_m\n",
    "df_merge=df_merge_m.merge(data, how='left', left_on='original_title', right_on='original_title')\n",
    "df_merge.head(2)\n",
    "asd=df_merge[df_merge['production_companies_x']=='Paramount Pictures'].groupby('original_title').sum()\n",
    "asd\n",
    "y=asd[asd['prib']==asd['prib'].min()].index[0]\n",
    "answer_ls.append(y)"
   ]
  },
  {
   "cell_type": "markdown",
   "metadata": {},
   "source": [
    "# 25. Какой Самый прибыльный год (заработали больше всего)?\n",
    "Варианты ответа:\n",
    "1. 2014\n",
    "2. 2008\n",
    "3. 2012\n",
    "4. 2002\n",
    "5. 2015"
   ]
  },
  {
   "cell_type": "code",
   "execution_count": 283,
   "metadata": {},
   "outputs": [],
   "source": [
    "data.head(2)\n",
    "data2=data.groupby('release_year').sum()\n",
    "y=data2[data2['prib']==data2['prib'].max()].index[0]\n",
    "answer_ls.append(y)"
   ]
  },
  {
   "cell_type": "markdown",
   "metadata": {},
   "source": [
    "# 26. Какой Самый прибыльный год для студии Warner Bros?\n",
    "Варианты ответа:\n",
    "1. 2014\n",
    "2. 2008\n",
    "3. 2012\n",
    "4. 2010\n",
    "5. 2015"
   ]
  },
  {
   "cell_type": "code",
   "execution_count": 297,
   "metadata": {},
   "outputs": [],
   "source": [
    "data.head(2)\n",
    "df_company=create_lst(data_set,'production_companies','original_title','df_comp')\n",
    "#df_genres=create_lst(data_set,'genres','original_title','df_genres')\n",
    "#df_genres.count()\n",
    "df_company\n",
    "df_merge_m=df_company.merge(data, how='left', left_on='original_title', right_on='original_title')\n",
    "asd=df_merge_m[df_merge_m['production_companies_x'].str.contains('Warner Bros', na = False)].groupby('release_year').sum()\n",
    "#df_merge=df_merge_m.merge(data, how='left', left_on='original_title', right_on='original_title')\n",
    "#df_merge.head(2)\n",
    "#df_merge[df_merge['production_companies_x']=='Paramount Pictures'].groupby('original_title').sum()\n",
    "#asd\n",
    "y=asd[asd['prib']==asd['prib'].max()].index[0]\n",
    "\n",
    "#data2=data[data[.groupby('release_year').sum()\n",
    "#data2[data2['prib']==data2['prib'].max()].index[0]\n",
    "answer_ls.append(y)"
   ]
  },
  {
   "cell_type": "markdown",
   "metadata": {},
   "source": [
    "# 27. В каком месяце за все годы суммарно вышло больше всего фильмов?\n",
    "Варианты ответа:\n",
    "1. Январь\n",
    "2. Июнь\n",
    "3. Декабрь\n",
    "4. Сентябрь\n",
    "5. Май"
   ]
  },
  {
   "cell_type": "code",
   "execution_count": 343,
   "metadata": {},
   "outputs": [
    {
     "name": "stdout",
     "output_type": "stream",
     "text": [
      "9\n"
     ]
    }
   ],
   "source": [
    "#answer_ls.append(1)\n",
    "#df_month=create_lst(data_set,'production_companies','original_title','df_comp')\n",
    "#list1_=[]\n",
    "#list2_=[]\n",
    "#s=0\n",
    "data2=data\n",
    "data2['profit']=data2['revenue']-data2['budget']\n",
    "data2['release_month']=data2['release_date'].str.split(r'/').str[0]\n",
    "asd=data2.groupby('release_month').count()\n",
    "asd['original_title']\n",
    "max_list=asd['original_title'].max()\n",
    "#counter_df=asd['original_title']\n",
    "counter_df=asd['original_title']\n",
    "str_genres=\"\"\n",
    "for i,j in counter_df.items():\n",
    "    #print(i,j)\n",
    "    if j==max_list:\n",
    "        #print(i,j)\n",
    "        str_genres=i\n",
    "        break\n",
    "#\n",
    "print(str_genres)\n",
    "#counter_df\n",
    "#data2.head(2)\n",
    "#df_merge_m=df_month.merge(data, how='left', left_on='original_title', right_on='original_title')\n",
    "#df_merge_m.groupby('release_year_x').sum() str.split(r',\\s*').str[0]\n",
    "#df_month\n",
    "#df_merge_m.head(2)\n",
    "answer_ls.append(str_genres)"
   ]
  },
  {
   "cell_type": "markdown",
   "metadata": {},
   "source": [
    "# 28. Сколько суммарно вышло фильмов летом? (за июнь, июль, август)\n",
    "Варианты ответа:\n",
    "1. 345\n",
    "2. 450\n",
    "3. 478\n",
    "4. 523\n",
    "5. 381"
   ]
  },
  {
   "cell_type": "code",
   "execution_count": 359,
   "metadata": {},
   "outputs": [],
   "source": [
    "data2.head(2)\n",
    "y=data2[(data2['release_month']=='6') | (data2['release_month']=='7') | (data2['release_month']=='8')]['original_title'].count()\n",
    "answer_ls.append(y)"
   ]
  },
  {
   "cell_type": "markdown",
   "metadata": {},
   "source": [
    "# 29. Какой режисер выпускает (суммарно по годам) больше всего фильмов зимой?\n",
    "Варианты ответов:\n",
    "1. Steven Soderbergh\n",
    "2. Christopher Nolan\n",
    "3. Clint Eastwood\n",
    "4. Ridley Scott\n",
    "5. Peter Jackson"
   ]
  },
  {
   "cell_type": "code",
   "execution_count": 384,
   "metadata": {},
   "outputs": [
    {
     "name": "stdout",
     "output_type": "stream",
     "text": [
      "Peter Jackson 7\n"
     ]
    }
   ],
   "source": [
    "data3=data2[(data2['release_month']=='12') | (data2['release_month']=='1') | (data2['release_month']=='2')]\n",
    "data3.groupby('director')['original_title'].count()\n",
    "max_list=data3.groupby('director')['original_title'].count().max()\n",
    "#counter_df=asd['original_title']\n",
    "counter_df=data3.groupby('director')['original_title'].count()\n",
    "str_genres=\"\"\n",
    "for i,j in counter_df.items():\n",
    "    #print(i,j)\n",
    "    if j==max_list:\n",
    "        #print(i,j)\n",
    "        str_genres=i\n",
    "        break\n",
    "#\n",
    "print(str_genres,max_list)\n",
    "#data2.groupby(['release_year','director'])['original_title'].aggregate('count').unstack()\n",
    "#data2.pivot_table('original_title', index='release_year', columns='director')\n",
    "answer_ls.append(str_genres)"
   ]
  },
  {
   "cell_type": "markdown",
   "metadata": {},
   "source": [
    "# 30. Какой месяц чаще всего по годам самый прибыльный?\n",
    "Варианты ответа:\n",
    "1. Январь\n",
    "2. Июнь\n",
    "3. Декабрь\n",
    "4. Сентябрь\n",
    "5. Май"
   ]
  },
  {
   "cell_type": "code",
   "execution_count": 393,
   "metadata": {},
   "outputs": [
    {
     "name": "stdout",
     "output_type": "stream",
     "text": [
      "6 27551262500\n"
     ]
    }
   ],
   "source": [
    "data2.head(2)\n",
    "data2.groupby('release_month')['profit'].sum().max()\n",
    "#answer_ls.append(1)\n",
    "max_list=data2.groupby('release_month')['profit'].sum().max()\n",
    "#counter_df=asd['original_title']\n",
    "counter_df=data2.groupby('release_month')['profit'].sum()\n",
    "str_genres=\"\"\n",
    "for i,j in counter_df.items():\n",
    "    #print(i,j)\n",
    "    if j==max_list:\n",
    "        #print(i,j)\n",
    "        str_genres=i\n",
    "        break\n",
    "#\n",
    "print(str_genres,max_list)\n",
    "answer_ls.append(str_genres)"
   ]
  },
  {
   "cell_type": "markdown",
   "metadata": {},
   "source": [
    "# 31. Названия фильмов какой студии в среднем самые длинные по количеству символов?\n",
    "Варианты ответа:\n",
    "1. Universal Pictures (Universal)\n",
    "2. Warner Bros\n",
    "3. Jim Henson Company, The\n",
    "4. Paramount Pictures\n",
    "5. Four By Two Productions"
   ]
  },
  {
   "cell_type": "code",
   "execution_count": 413,
   "metadata": {},
   "outputs": [
    {
     "name": "stdout",
     "output_type": "stream",
     "text": [
      "Four By Two Productions 83.0\n"
     ]
    }
   ],
   "source": [
    "df_company=create_lst(data_set,'production_companies','original_title','df_comp')\n",
    "#df_genres=create_lst(data_set,'genres','original_title','df_genres')\n",
    "#df_genres.count()\n",
    "df_company\n",
    "df_merge_m=df_company.merge(data2, how='left', left_on='original_title', right_on='original_title')\n",
    "df_merge_m.head(2)\n",
    "#asd=\n",
    "#df_merge_m[df_merge_m['len_original_title']>df_merge_m['len_original_title'].mean()]\n",
    "df_merge_m.groupby('production_companies_x')['len_original_title'].mean().max()\n",
    "max_list=df_merge_m.groupby('production_companies_x')['len_original_title'].mean().max()\n",
    "counter_df=df_merge_m.groupby('production_companies_x')['len_original_title'].mean()\n",
    "str_genres=\"\"\n",
    "for i,j in counter_df.items():\n",
    "    #print(i,j)\n",
    "    if j==max_list:\n",
    "        #print(i,j)\n",
    "        str_genres=i\n",
    "        break\n",
    "#\n",
    "print(str_genres,max_list)\n",
    "#df_company=create_lst(data_set,'production_companies','original_title','df_comp')\n",
    "#data2['len_original_title']=data2['original_title'].apply(lambda x:len(x))\n",
    "#sample.age.apply(lambda x:x+1)\n",
    "#df_genres=create_lst(data_set,'genres','original_title','df_genres')\n",
    "#df_genres.count()\n",
    "#df_company\n",
    "#df_merge_m=df_company.merge(data, how='left', left_on='original_title', right_on='original_title')\n",
    "#df_merge_m[]\n",
    "#print(y)\n",
    "#data2.head(2)                           \n",
    "answer_ls.append(str_genres)"
   ]
  },
  {
   "cell_type": "markdown",
   "metadata": {},
   "source": [
    "# 32. Названия фильмов какой студии в среднем самые длинные по количеству слов?\n",
    "Варианты ответа:\n",
    "1. Universal Pictures (Universal)\n",
    "2. Warner Bros\n",
    "3. Jim Henson Company, The\n",
    "4. Paramount Pictures\n",
    "5. Four By Two Productions"
   ]
  },
  {
   "cell_type": "code",
   "execution_count": 448,
   "metadata": {},
   "outputs": [
    {
     "name": "stdout",
     "output_type": "stream",
     "text": [
      "Four By Two Productions 12.0\n"
     ]
    }
   ],
   "source": [
    "list1_=[]\n",
    "list2_=[]\n",
    "s=0\n",
    "for index,row in data.iterrows():\n",
    "    list1_.append(len(data['original_title'][index].split()))\n",
    "    list2_.append(data['imdb_id'][index])\n",
    "name_df = {'len_word_original_title':list1_, 'imdb_id':list2_}\n",
    "name_df =pd.DataFrame(name_df) #9443\n",
    "name_df.head(2)\n",
    "df_merge_m=name_df.merge(data2, how='left', left_on='imdb_id', right_on='imdb_id')\n",
    "df_company=create_lst(data_set,'production_companies','original_title','df_comp')\n",
    "df_merge_m1=df_company.merge(df_merge_m, how='left', left_on='original_title', right_on='original_title')\n",
    "#df_merge_m1.head(2)\n",
    "df_company\n",
    "df_merge_m1.head(2)\n",
    "df_merge_m1.groupby('production_companies_x')['len_word_original_title'].mean().max()\n",
    "max_list=df_merge_m1.groupby('production_companies_x')['len_word_original_title'].mean().max()\n",
    "counter_df=df_merge_m1.groupby('production_companies_x')['len_word_original_title'].mean()\n",
    "str_genres=\"\"\n",
    "for i,j in counter_df.items():\n",
    "    #print(i,j)\n",
    "    if j==max_list:\n",
    "        #print(i,j)\n",
    "        str_genres=i\n",
    "        break\n",
    "#\n",
    "print(str_genres,max_list)\n",
    "answer_ls.append(str_genres)"
   ]
  },
  {
   "cell_type": "markdown",
   "metadata": {},
   "source": [
    "# 33. Сколько разных слов используется в названиях фильмов?(без учета регистра)\n",
    "Варианты ответа:\n",
    "1. 6540\n",
    "2. 1002\n",
    "3. 2461\n",
    "4. 28304\n",
    "5. 3432"
   ]
  },
  {
   "cell_type": "code",
   "execution_count": 463,
   "metadata": {},
   "outputs": [
    {
     "name": "stdout",
     "output_type": "stream",
     "text": [
      "2461 5137\n"
     ]
    }
   ],
   "source": [
    "data2.head(2)\n",
    "list1_=[]\n",
    "list2_=[]\n",
    "s=0\n",
    "for index,row in data2.iterrows():\n",
    "    for i in data_set['original_title'][index].split():\n",
    "        list1_.append(i.lower())\n",
    "        #list2_.append(row[colum2])\n",
    "        s=s+1\n",
    "#name_df = {colum1:list1_, colum2:list2_}\n",
    "#name_df =pd.DataFrame(name_df)\n",
    "#name_df\n",
    "#data2.head(2)\n",
    "asd=set(list1_)\n",
    "print(len(asd),len(list1_))\n",
    "answer_ls.append(len(asd))"
   ]
  },
  {
   "cell_type": "markdown",
   "metadata": {},
   "source": [
    "# 34. Какие фильмы входят в 1 процент лучших по рейтингу?\n",
    "Варианты ответа:\n",
    "1. Inside Out, Gone Girl, 12 Years a Slave\n",
    "2. BloodRayne, The Adventures of Rocky & Bullwinkle\n",
    "3. The Lord of the Rings: The Return of the King\n",
    "4. 300, Lucky Number Slevin"
   ]
  },
  {
   "cell_type": "code",
   "execution_count": 548,
   "metadata": {},
   "outputs": [
    {
     "name": "stdout",
     "output_type": "stream",
     "text": [
      "['Inside Out', 'Gone Girl', '12 Years a Slave']\n"
     ]
    }
   ],
   "source": [
    "data.quantile(0.99)['vote_average']\n",
    "asd=data[data['vote_average']>=data.quantile(0.99)['vote_average']]['original_title']\n",
    "\n",
    "item = [\"Inside Out, Gone Girl, 12 Years a Slave\",\"BloodRayne, The Adventures of Rocky & Bullwinkle\",\"The Lord of the Rings: The Return of the King\",\"300, Lucky Number Slevin\"]\n",
    "for y in item:\n",
    "    film=test(y,asd)\n",
    "    if film!='':\n",
    "        break\n",
    "    \n",
    "    \n",
    "def test(item,asd):\n",
    "    count=0\n",
    "    item=item.split(', ')\n",
    "    len_item=len(item)\n",
    "\n",
    "\n",
    "    for i,j in asd.items():\n",
    "    #print(j)\n",
    "        if j in item:\n",
    "            count=count+1\n",
    "    \n",
    "    if len_item==count:\n",
    "        \n",
    "        text=item\n",
    "    return(text)\n",
    "        \n",
    "print(film)        \n",
    "\n",
    "    #    companies.remove(item)\n",
    "#asd.duplicates()\n",
    "answer_ls.append(film)\n",
    "#asd"
   ]
  },
  {
   "cell_type": "markdown",
   "metadata": {},
   "source": [
    "# 35. Какие актеры чаще всего снимаются в одном фильме вместе\n",
    "Варианты ответа:\n",
    "1. Johnny Depp & Helena Bonham Carter\n",
    "2. Hugh Jackman & Ian McKellen\n",
    "3. Vin Diesel & Paul Walker\n",
    "4. Adam Sandler & Kevin James\n",
    "5. Daniel Radcliffe & Rupert Grint"
   ]
  },
  {
   "cell_type": "code",
   "execution_count": 592,
   "metadata": {},
   "outputs": [
    {
     "data": {
      "text/plain": [
       "{36: 'Johnny Depp & Helena Bonham Carter',\n",
       " 30: 'Hugh Jackman & Ian McKellen',\n",
       " 29: 'Vin Diesel & Paul Walker',\n",
       " 31: 'Adam Sandler & Kevin James',\n",
       " 20: 'Daniel Radcliffe & Rupert Grint'}"
      ]
     },
     "execution_count": 592,
     "metadata": {},
     "output_type": "execute_result"
    }
   ],
   "source": [
    "data.head(2)\n",
    "d1={}\n",
    "text_list=['Johnny Depp & Helena Bonham Carter','Hugh Jackman & Ian McKellen','Vin Diesel & Paul Walker','Adam Sandler & Kevin James','Daniel Radcliffe & Rupert Grint']\n",
    "for text in text_list: \n",
    "    #print(text)\n",
    "    text_l=text.split(' & ')\n",
    "    count=0\n",
    "    for i in data['cast']:\n",
    "    \n",
    "        for j in text_l:\n",
    "        #print(i,j)\n",
    "            if i.find(j)!=-1:\n",
    "                count=count+1\n",
    "    d1[count]=text\n",
    "    \n",
    "max(d1) \n",
    "d1[max(d1)]\n",
    "d1\n",
    "#print(get_key(d1, max(d1.values())))\n",
    "#data.head(2)    \n",
    "#answer_ls.append(d1[max(d1)])"
   ]
  },
  {
   "cell_type": "markdown",
   "metadata": {},
   "source": [
    "# 36. У какого из режиссеров выше вероятность выпустить фильм в прибыли? (5 баллов)101\n",
    "Варианты ответа:\n",
    "1. Quentin Tarantino\n",
    "2. Steven Soderbergh\n",
    "3. Robert Rodriguez\n",
    "4. Christopher Nolan\n",
    "5. Clint Eastwood"
   ]
  },
  {
   "cell_type": "code",
   "execution_count": 666,
   "metadata": {},
   "outputs": [
    {
     "ename": "AttributeError",
     "evalue": "'DataFrame' object has no attribute 'key'",
     "output_type": "error",
     "traceback": [
      "\u001b[1;31m---------------------------------------------------------------------------\u001b[0m",
      "\u001b[1;31mAttributeError\u001b[0m                            Traceback (most recent call last)",
      "\u001b[1;32m<ipython-input-666-2ea923909dfb>\u001b[0m in \u001b[0;36m<module>\u001b[1;34m\u001b[0m\n\u001b[0;32m     25\u001b[0m \u001b[1;31m#print(str_genres,max_list)\u001b[0m\u001b[1;33m\u001b[0m\u001b[1;33m\u001b[0m\u001b[1;33m\u001b[0m\u001b[0m\n\u001b[0;32m     26\u001b[0m \u001b[1;31m#asd[(asd[0]=='Christopher Nolan')]\u001b[0m\u001b[1;33m\u001b[0m\u001b[1;33m\u001b[0m\u001b[1;33m\u001b[0m\u001b[0m\n\u001b[1;32m---> 27\u001b[1;33m \u001b[0masd\u001b[0m\u001b[1;33m.\u001b[0m\u001b[0mkey\u001b[0m\u001b[1;33m[\u001b[0m\u001b[1;34m'Christopher Nolan'\u001b[0m\u001b[1;33m]\u001b[0m\u001b[1;33m\u001b[0m\u001b[1;33m\u001b[0m\u001b[0m\n\u001b[0m\u001b[0;32m     28\u001b[0m \u001b[1;31m#answer_ls.append(1)\u001b[0m\u001b[1;33m\u001b[0m\u001b[1;33m\u001b[0m\u001b[1;33m\u001b[0m\u001b[0m\n",
      "\u001b[1;32mC:\\Work\\Anaconda3\\lib\\site-packages\\pandas\\core\\generic.py\u001b[0m in \u001b[0;36m__getattr__\u001b[1;34m(self, name)\u001b[0m\n\u001b[0;32m   5177\u001b[0m             \u001b[1;32mif\u001b[0m \u001b[0mself\u001b[0m\u001b[1;33m.\u001b[0m\u001b[0m_info_axis\u001b[0m\u001b[1;33m.\u001b[0m\u001b[0m_can_hold_identifiers_and_holds_name\u001b[0m\u001b[1;33m(\u001b[0m\u001b[0mname\u001b[0m\u001b[1;33m)\u001b[0m\u001b[1;33m:\u001b[0m\u001b[1;33m\u001b[0m\u001b[1;33m\u001b[0m\u001b[0m\n\u001b[0;32m   5178\u001b[0m                 \u001b[1;32mreturn\u001b[0m \u001b[0mself\u001b[0m\u001b[1;33m[\u001b[0m\u001b[0mname\u001b[0m\u001b[1;33m]\u001b[0m\u001b[1;33m\u001b[0m\u001b[1;33m\u001b[0m\u001b[0m\n\u001b[1;32m-> 5179\u001b[1;33m             \u001b[1;32mreturn\u001b[0m \u001b[0mobject\u001b[0m\u001b[1;33m.\u001b[0m\u001b[0m__getattribute__\u001b[0m\u001b[1;33m(\u001b[0m\u001b[0mself\u001b[0m\u001b[1;33m,\u001b[0m \u001b[0mname\u001b[0m\u001b[1;33m)\u001b[0m\u001b[1;33m\u001b[0m\u001b[1;33m\u001b[0m\u001b[0m\n\u001b[0m\u001b[0;32m   5180\u001b[0m \u001b[1;33m\u001b[0m\u001b[0m\n\u001b[0;32m   5181\u001b[0m     \u001b[1;32mdef\u001b[0m \u001b[0m__setattr__\u001b[0m\u001b[1;33m(\u001b[0m\u001b[0mself\u001b[0m\u001b[1;33m,\u001b[0m \u001b[0mname\u001b[0m\u001b[1;33m,\u001b[0m \u001b[0mvalue\u001b[0m\u001b[1;33m)\u001b[0m\u001b[1;33m:\u001b[0m\u001b[1;33m\u001b[0m\u001b[1;33m\u001b[0m\u001b[0m\n",
      "\u001b[1;31mAttributeError\u001b[0m: 'DataFrame' object has no attribute 'key'"
     ]
    }
   ],
   "source": [
    "data2.head(2)\n",
    "data2['pzr_profit']=data2['profit'].apply(lambda x: 1 if x>0 else 0)\n",
    "data2['pzr_film']=1\n",
    "count_film=data2.groupby('director')['pzr_film'].count()\n",
    "count_profit_film=data2.groupby('director')['pzr_profit'].sum()\n",
    "#print(count_film,count_profit_film)\n",
    "#df1 = {'director:list1_, colum2:list2_}\n",
    "df1 =pd.DataFrame(count_film)\n",
    "df2 =pd.DataFrame(count_profit_film)#9443\n",
    "df1\n",
    "asd=df1.merge(df2,how='left', left_on='director', right_on='director')\n",
    "asd['teor']=asd['pzr_profit']/asd['pzr_film']\n",
    "asd.head(5)\n",
    "asd[(asd['teor']==asd['teor'].max())]['pzr_film'].max()#data2.head(2)\n",
    "max_list=asd[(asd['teor']==asd['teor'].max())]['pzr_film'].max()\n",
    "counter_df=asd[(asd['teor']==asd['teor'].max())]['pzr_film']\n",
    "str_genres=\"\"\n",
    "for i,j in counter_df.items():\n",
    "    #print(i,j)\n",
    "    if j==max_list:\n",
    "        #print(i,j)\n",
    "        str_genres=i\n",
    "        break\n",
    "#\n",
    "#print(str_genres,max_list)\n",
    "#asd[(asd[0]=='Christopher Nolan')]\n",
    "a\n",
    "#answer_ls.append(1)"
   ]
  },
  {
   "cell_type": "markdown",
   "metadata": {},
   "source": [
    "# Submission"
   ]
  },
  {
   "cell_type": "code",
   "execution_count": 6,
   "metadata": {},
   "outputs": [
    {
     "data": {
      "text/plain": [
       "0"
      ]
     },
     "execution_count": 6,
     "metadata": {},
     "output_type": "execute_result"
    }
   ],
   "source": [
    "len(answer_ls)"
   ]
  },
  {
   "cell_type": "code",
   "execution_count": 667,
   "metadata": {},
   "outputs": [
    {
     "data": {
      "text/html": [
       "<div>\n",
       "<style scoped>\n",
       "    .dataframe tbody tr th:only-of-type {\n",
       "        vertical-align: middle;\n",
       "    }\n",
       "\n",
       "    .dataframe tbody tr th {\n",
       "        vertical-align: top;\n",
       "    }\n",
       "\n",
       "    .dataframe thead th {\n",
       "        text-align: right;\n",
       "    }\n",
       "</style>\n",
       "<table border=\"1\" class=\"dataframe\">\n",
       "  <thead>\n",
       "    <tr style=\"text-align: right;\">\n",
       "      <th></th>\n",
       "      <th>Id</th>\n",
       "      <th>Answer</th>\n",
       "    </tr>\n",
       "  </thead>\n",
       "  <tbody>\n",
       "    <tr>\n",
       "      <td>0</td>\n",
       "      <td>1</td>\n",
       "      <td>The Warrior's Way</td>\n",
       "    </tr>\n",
       "    <tr>\n",
       "      <td>1</td>\n",
       "      <td>2</td>\n",
       "      <td>Gods and Generals</td>\n",
       "    </tr>\n",
       "    <tr>\n",
       "      <td>2</td>\n",
       "      <td>3</td>\n",
       "      <td>Winnie the Pooh</td>\n",
       "    </tr>\n",
       "    <tr>\n",
       "      <td>3</td>\n",
       "      <td>4</td>\n",
       "      <td>110</td>\n",
       "    </tr>\n",
       "    <tr>\n",
       "      <td>4</td>\n",
       "      <td>5</td>\n",
       "      <td>106</td>\n",
       "    </tr>\n",
       "    <tr>\n",
       "      <td>5</td>\n",
       "      <td>6</td>\n",
       "      <td>Avatar</td>\n",
       "    </tr>\n",
       "    <tr>\n",
       "      <td>6</td>\n",
       "      <td>7</td>\n",
       "      <td>The Warrior's Way</td>\n",
       "    </tr>\n",
       "    <tr>\n",
       "      <td>7</td>\n",
       "      <td>8</td>\n",
       "      <td>1478</td>\n",
       "    </tr>\n",
       "    <tr>\n",
       "      <td>8</td>\n",
       "      <td>9</td>\n",
       "      <td>1478</td>\n",
       "    </tr>\n",
       "    <tr>\n",
       "      <td>9</td>\n",
       "      <td>10</td>\n",
       "      <td>The Dark Knight</td>\n",
       "    </tr>\n",
       "    <tr>\n",
       "      <td>10</td>\n",
       "      <td>11</td>\n",
       "      <td>The Lone Ranger</td>\n",
       "    </tr>\n",
       "    <tr>\n",
       "      <td>11</td>\n",
       "      <td>12</td>\n",
       "      <td>Drama</td>\n",
       "    </tr>\n",
       "    <tr>\n",
       "      <td>12</td>\n",
       "      <td>13</td>\n",
       "      <td>Drama</td>\n",
       "    </tr>\n",
       "    <tr>\n",
       "      <td>13</td>\n",
       "      <td>14</td>\n",
       "      <td>Steven Soderbergh</td>\n",
       "    </tr>\n",
       "    <tr>\n",
       "      <td>14</td>\n",
       "      <td>15</td>\n",
       "      <td>Ridley Scott</td>\n",
       "    </tr>\n",
       "    <tr>\n",
       "      <td>15</td>\n",
       "      <td>16</td>\n",
       "      <td>Peter Jackson</td>\n",
       "    </tr>\n",
       "    <tr>\n",
       "      <td>16</td>\n",
       "      <td>17</td>\n",
       "      <td>Emma Watson</td>\n",
       "    </tr>\n",
       "    <tr>\n",
       "      <td>17</td>\n",
       "      <td>18</td>\n",
       "      <td>Kirsten Dunst</td>\n",
       "    </tr>\n",
       "    <tr>\n",
       "      <td>18</td>\n",
       "      <td>19</td>\n",
       "      <td>Matt Damon</td>\n",
       "    </tr>\n",
       "    <tr>\n",
       "      <td>19</td>\n",
       "      <td>20</td>\n",
       "      <td>Action</td>\n",
       "    </tr>\n",
       "    <tr>\n",
       "      <td>20</td>\n",
       "      <td>21</td>\n",
       "      <td>Universal Pictures</td>\n",
       "    </tr>\n",
       "    <tr>\n",
       "      <td>21</td>\n",
       "      <td>22</td>\n",
       "      <td>Warner Bros.</td>\n",
       "    </tr>\n",
       "    <tr>\n",
       "      <td>22</td>\n",
       "      <td>23</td>\n",
       "      <td>Universal Pictures</td>\n",
       "    </tr>\n",
       "    <tr>\n",
       "      <td>23</td>\n",
       "      <td>24</td>\n",
       "      <td>Columbia Pictures</td>\n",
       "    </tr>\n",
       "    <tr>\n",
       "      <td>24</td>\n",
       "      <td>25</td>\n",
       "      <td>K-19: The Widowmaker</td>\n",
       "    </tr>\n",
       "    <tr>\n",
       "      <td>25</td>\n",
       "      <td>26</td>\n",
       "      <td>2015</td>\n",
       "    </tr>\n",
       "    <tr>\n",
       "      <td>26</td>\n",
       "      <td>27</td>\n",
       "      <td>2014</td>\n",
       "    </tr>\n",
       "    <tr>\n",
       "      <td>27</td>\n",
       "      <td>28</td>\n",
       "      <td>9</td>\n",
       "    </tr>\n",
       "    <tr>\n",
       "      <td>28</td>\n",
       "      <td>29</td>\n",
       "      <td>450</td>\n",
       "    </tr>\n",
       "    <tr>\n",
       "      <td>29</td>\n",
       "      <td>30</td>\n",
       "      <td>Peter Jackson</td>\n",
       "    </tr>\n",
       "    <tr>\n",
       "      <td>30</td>\n",
       "      <td>31</td>\n",
       "      <td>6</td>\n",
       "    </tr>\n",
       "    <tr>\n",
       "      <td>31</td>\n",
       "      <td>32</td>\n",
       "      <td>Four By Two Productions</td>\n",
       "    </tr>\n",
       "    <tr>\n",
       "      <td>32</td>\n",
       "      <td>33</td>\n",
       "      <td>Four By Two Productions</td>\n",
       "    </tr>\n",
       "    <tr>\n",
       "      <td>33</td>\n",
       "      <td>34</td>\n",
       "      <td>2461</td>\n",
       "    </tr>\n",
       "    <tr>\n",
       "      <td>34</td>\n",
       "      <td>35</td>\n",
       "      <td>[Inside Out, Gone Girl, 12 Years a Slave]</td>\n",
       "    </tr>\n",
       "    <tr>\n",
       "      <td>35</td>\n",
       "      <td>36</td>\n",
       "      <td>Johnny Depp &amp; Helena Bonham Carter</td>\n",
       "    </tr>\n",
       "  </tbody>\n",
       "</table>\n",
       "</div>"
      ],
      "text/plain": [
       "    Id                                     Answer\n",
       "0    1                          The Warrior's Way\n",
       "1    2                          Gods and Generals\n",
       "2    3                            Winnie the Pooh\n",
       "3    4                                        110\n",
       "4    5                                        106\n",
       "5    6                                     Avatar\n",
       "6    7                          The Warrior's Way\n",
       "7    8                                       1478\n",
       "8    9                                       1478\n",
       "9   10                            The Dark Knight\n",
       "10  11                            The Lone Ranger\n",
       "11  12                                      Drama\n",
       "12  13                                      Drama\n",
       "13  14                          Steven Soderbergh\n",
       "14  15                               Ridley Scott\n",
       "15  16                              Peter Jackson\n",
       "16  17                                Emma Watson\n",
       "17  18                              Kirsten Dunst\n",
       "18  19                                 Matt Damon\n",
       "19  20                                     Action\n",
       "20  21                         Universal Pictures\n",
       "21  22                               Warner Bros.\n",
       "22  23                         Universal Pictures\n",
       "23  24                          Columbia Pictures\n",
       "24  25                       K-19: The Widowmaker\n",
       "25  26                                       2015\n",
       "26  27                                       2014\n",
       "27  28                                          9\n",
       "28  29                                        450\n",
       "29  30                              Peter Jackson\n",
       "30  31                                          6\n",
       "31  32                    Four By Two Productions\n",
       "32  33                    Four By Two Productions\n",
       "33  34                                       2461\n",
       "34  35  [Inside Out, Gone Girl, 12 Years a Slave]\n",
       "35  36         Johnny Depp & Helena Bonham Carter"
      ]
     },
     "execution_count": 667,
     "metadata": {},
     "output_type": "execute_result"
    }
   ],
   "source": [
    "pd.DataFrame({'Id':range(1,len(answer_ls)+1), 'Answer':answer_ls}, columns=['Id', 'Answer'])"
   ]
  },
  {
   "cell_type": "code",
   "execution_count": null,
   "metadata": {},
   "outputs": [],
   "source": []
  }
 ],
 "metadata": {
  "kernelspec": {
   "display_name": "Python 3",
   "language": "python",
   "name": "python3"
  },
  "language_info": {
   "codemirror_mode": {
    "name": "ipython",
    "version": 3
   },
   "file_extension": ".py",
   "mimetype": "text/x-python",
   "name": "python",
   "nbconvert_exporter": "python",
   "pygments_lexer": "ipython3",
   "version": "3.7.4"
  }
 },
 "nbformat": 4,
 "nbformat_minor": 4
}
